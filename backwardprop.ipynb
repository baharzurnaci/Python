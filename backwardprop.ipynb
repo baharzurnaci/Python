{
  "nbformat": 4,
  "nbformat_minor": 0,
  "metadata": {
    "colab": {
      "name": "backwardprop.ipynb",
      "provenance": [],
      "include_colab_link": true
    },
    "kernelspec": {
      "name": "python3",
      "display_name": "Python 3"
    }
  },
  "cells": [
    {
      "cell_type": "markdown",
      "metadata": {
        "id": "view-in-github",
        "colab_type": "text"
      },
      "source": [
        "<a href=\"https://colab.research.google.com/github/baharzurnaci/PythonKodlarim/blob/master/backwardprop.ipynb\" target=\"_parent\"><img src=\"https://colab.research.google.com/assets/colab-badge.svg\" alt=\"Open In Colab\"/></a>"
      ]
    },
    {
      "cell_type": "code",
      "metadata": {
        "id": "_fwsMI84Re9-",
        "colab_type": "code",
        "colab": {}
      },
      "source": [
        "import numpy as np\n",
        "\n",
        "def sigmoid(z):\n",
        "  y_head = 1/(1+np.exp(-z))\n",
        "  return y_head  \n",
        "\n",
        "i = np.array([[0.05,0.10]], dtype=np.float64)  #aynı boyutlu matrislerde işlem yapılır\n",
        "w1 = np.array([[0.15,0.25],[0.20,0.30]], dtype=np.float64)\n",
        "b1 = 0.35\n",
        "\n",
        "def forward_backwatd_propogation(w,b):\n",
        "  z = np.dot(w1,b) + b1\n",
        "  y_head = sigmoid(z)\n",
        "  \n"
      ],
      "execution_count": 0,
      "outputs": []
    },
    {
      "cell_type": "code",
      "metadata": {
        "id": "s-QDUEHWSAS8",
        "colab_type": "code",
        "colab": {}
      },
      "source": [
        ""
      ],
      "execution_count": 0,
      "outputs": []
    }
  ]
}